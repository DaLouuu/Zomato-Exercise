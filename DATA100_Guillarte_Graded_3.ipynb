{
  "cells": [
    {
      "cell_type": "markdown",
      "source": [
        "Guillarte, Dana Louise A.\n",
        "\n",
        "DATA100 - S17"
      ],
      "metadata": {
        "id": "hkPtib_Y0rWZ"
      },
      "id": "hkPtib_Y0rWZ"
    },
    {
      "cell_type": "markdown",
      "id": "174e376c",
      "metadata": {
        "id": "174e376c"
      },
      "source": [
        "# Zomato Exercise"
      ]
    },
    {
      "cell_type": "markdown",
      "id": "2d84fdf3",
      "metadata": {
        "id": "2d84fdf3"
      },
      "source": [
        "Zomato is a restaurant aggregator website. The platform provides information, menus and user-reviews of restaurants as well as food delivery options from partner restaurants in select cities. You have been provided 3 datasets:\n",
        "\n",
        "- zomato.csv contains restaurant information like average_cost_for_two, cuisines\n",
        "- location.csv contains location of the restaurants like address, city, locality & etc\n",
        "- ratings.csv contains aggregate rating for each restaurant\n",
        "\n",
        "The different files are connected using the `id` columns which can be found in the different files. The id column is a unique identifier to represent a restaurant. You can use this to **merge** the different files."
      ]
    },
    {
      "cell_type": "code",
      "execution_count": 1,
      "id": "5337de5f",
      "metadata": {
        "id": "5337de5f"
      },
      "outputs": [],
      "source": [
        "import pandas as pd\n",
        "import numpy as np"
      ]
    },
    {
      "cell_type": "code",
      "source": [
        "location_addr = 'https://raw.githubusercontent.com/DaLouuu/Zomato-Exercise/main/location.csv'\n",
        "location_df = pd.read_csv(location_addr)\n",
        "\n",
        "zomato_addr = 'https://raw.githubusercontent.com/DaLouuu/Zomato-Exercise/main/zomato.csv'\n",
        "zomato_df = pd.read_csv(zomato_addr)\n",
        "\n",
        "ratings_addr = 'https://raw.githubusercontent.com/DaLouuu/Zomato-Exercise/main/ratings.csv'\n",
        "ratings_df = pd.read_csv(ratings_addr)"
      ],
      "metadata": {
        "id": "zGNl6zsLs7J8"
      },
      "id": "zGNl6zsLs7J8",
      "execution_count": 4,
      "outputs": []
    },
    {
      "cell_type": "code",
      "source": [
        "location_df.head()\n",
        "\n",
        "zomato_df.head()\n",
        "\n",
        "ratings_df.head()"
      ],
      "metadata": {
        "colab": {
          "base_uri": "https://localhost:8080/",
          "height": 206
        },
        "id": "OdQ2MunTwSqY",
        "outputId": "bf770abb-7840-4f99-f2a5-ae021b996c4d"
      },
      "id": "OdQ2MunTwSqY",
      "execution_count": 5,
      "outputs": [
        {
          "output_type": "execute_result",
          "data": {
            "text/plain": [
              "         id  aggregate_rating rating_color rating_text  votes\n",
              "0   6316125               4.9       3F7E00   Excellent   1394\n",
              "1  18409457               4.6       3F7E00   Excellent    602\n",
              "2   6307689               4.0       5BA829   Very Good    563\n",
              "3  18581637               4.0       5BA829   Very Good    413\n",
              "4   6315438               4.6       3F7E00   Excellent    960"
            ],
            "text/html": [
              "\n",
              "  <div id=\"df-6ad3d89e-8e98-4596-b587-cf97e59e9b14\" class=\"colab-df-container\">\n",
              "    <div>\n",
              "<style scoped>\n",
              "    .dataframe tbody tr th:only-of-type {\n",
              "        vertical-align: middle;\n",
              "    }\n",
              "\n",
              "    .dataframe tbody tr th {\n",
              "        vertical-align: top;\n",
              "    }\n",
              "\n",
              "    .dataframe thead th {\n",
              "        text-align: right;\n",
              "    }\n",
              "</style>\n",
              "<table border=\"1\" class=\"dataframe\">\n",
              "  <thead>\n",
              "    <tr style=\"text-align: right;\">\n",
              "      <th></th>\n",
              "      <th>id</th>\n",
              "      <th>aggregate_rating</th>\n",
              "      <th>rating_color</th>\n",
              "      <th>rating_text</th>\n",
              "      <th>votes</th>\n",
              "    </tr>\n",
              "  </thead>\n",
              "  <tbody>\n",
              "    <tr>\n",
              "      <th>0</th>\n",
              "      <td>6316125</td>\n",
              "      <td>4.9</td>\n",
              "      <td>3F7E00</td>\n",
              "      <td>Excellent</td>\n",
              "      <td>1394</td>\n",
              "    </tr>\n",
              "    <tr>\n",
              "      <th>1</th>\n",
              "      <td>18409457</td>\n",
              "      <td>4.6</td>\n",
              "      <td>3F7E00</td>\n",
              "      <td>Excellent</td>\n",
              "      <td>602</td>\n",
              "    </tr>\n",
              "    <tr>\n",
              "      <th>2</th>\n",
              "      <td>6307689</td>\n",
              "      <td>4.0</td>\n",
              "      <td>5BA829</td>\n",
              "      <td>Very Good</td>\n",
              "      <td>563</td>\n",
              "    </tr>\n",
              "    <tr>\n",
              "      <th>3</th>\n",
              "      <td>18581637</td>\n",
              "      <td>4.0</td>\n",
              "      <td>5BA829</td>\n",
              "      <td>Very Good</td>\n",
              "      <td>413</td>\n",
              "    </tr>\n",
              "    <tr>\n",
              "      <th>4</th>\n",
              "      <td>6315438</td>\n",
              "      <td>4.6</td>\n",
              "      <td>3F7E00</td>\n",
              "      <td>Excellent</td>\n",
              "      <td>960</td>\n",
              "    </tr>\n",
              "  </tbody>\n",
              "</table>\n",
              "</div>\n",
              "    <div class=\"colab-df-buttons\">\n",
              "\n",
              "  <div class=\"colab-df-container\">\n",
              "    <button class=\"colab-df-convert\" onclick=\"convertToInteractive('df-6ad3d89e-8e98-4596-b587-cf97e59e9b14')\"\n",
              "            title=\"Convert this dataframe to an interactive table.\"\n",
              "            style=\"display:none;\">\n",
              "\n",
              "  <svg xmlns=\"http://www.w3.org/2000/svg\" height=\"24px\" viewBox=\"0 -960 960 960\">\n",
              "    <path d=\"M120-120v-720h720v720H120Zm60-500h600v-160H180v160Zm220 220h160v-160H400v160Zm0 220h160v-160H400v160ZM180-400h160v-160H180v160Zm440 0h160v-160H620v160ZM180-180h160v-160H180v160Zm440 0h160v-160H620v160Z\"/>\n",
              "  </svg>\n",
              "    </button>\n",
              "\n",
              "  <style>\n",
              "    .colab-df-container {\n",
              "      display:flex;\n",
              "      gap: 12px;\n",
              "    }\n",
              "\n",
              "    .colab-df-convert {\n",
              "      background-color: #E8F0FE;\n",
              "      border: none;\n",
              "      border-radius: 50%;\n",
              "      cursor: pointer;\n",
              "      display: none;\n",
              "      fill: #1967D2;\n",
              "      height: 32px;\n",
              "      padding: 0 0 0 0;\n",
              "      width: 32px;\n",
              "    }\n",
              "\n",
              "    .colab-df-convert:hover {\n",
              "      background-color: #E2EBFA;\n",
              "      box-shadow: 0px 1px 2px rgba(60, 64, 67, 0.3), 0px 1px 3px 1px rgba(60, 64, 67, 0.15);\n",
              "      fill: #174EA6;\n",
              "    }\n",
              "\n",
              "    .colab-df-buttons div {\n",
              "      margin-bottom: 4px;\n",
              "    }\n",
              "\n",
              "    [theme=dark] .colab-df-convert {\n",
              "      background-color: #3B4455;\n",
              "      fill: #D2E3FC;\n",
              "    }\n",
              "\n",
              "    [theme=dark] .colab-df-convert:hover {\n",
              "      background-color: #434B5C;\n",
              "      box-shadow: 0px 1px 3px 1px rgba(0, 0, 0, 0.15);\n",
              "      filter: drop-shadow(0px 1px 2px rgba(0, 0, 0, 0.3));\n",
              "      fill: #FFFFFF;\n",
              "    }\n",
              "  </style>\n",
              "\n",
              "    <script>\n",
              "      const buttonEl =\n",
              "        document.querySelector('#df-6ad3d89e-8e98-4596-b587-cf97e59e9b14 button.colab-df-convert');\n",
              "      buttonEl.style.display =\n",
              "        google.colab.kernel.accessAllowed ? 'block' : 'none';\n",
              "\n",
              "      async function convertToInteractive(key) {\n",
              "        const element = document.querySelector('#df-6ad3d89e-8e98-4596-b587-cf97e59e9b14');\n",
              "        const dataTable =\n",
              "          await google.colab.kernel.invokeFunction('convertToInteractive',\n",
              "                                                    [key], {});\n",
              "        if (!dataTable) return;\n",
              "\n",
              "        const docLinkHtml = 'Like what you see? Visit the ' +\n",
              "          '<a target=\"_blank\" href=https://colab.research.google.com/notebooks/data_table.ipynb>data table notebook</a>'\n",
              "          + ' to learn more about interactive tables.';\n",
              "        element.innerHTML = '';\n",
              "        dataTable['output_type'] = 'display_data';\n",
              "        await google.colab.output.renderOutput(dataTable, element);\n",
              "        const docLink = document.createElement('div');\n",
              "        docLink.innerHTML = docLinkHtml;\n",
              "        element.appendChild(docLink);\n",
              "      }\n",
              "    </script>\n",
              "  </div>\n",
              "\n",
              "\n",
              "<div id=\"df-f0f57c7f-8011-4df2-a9a2-1be22c885a1b\">\n",
              "  <button class=\"colab-df-quickchart\" onclick=\"quickchart('df-f0f57c7f-8011-4df2-a9a2-1be22c885a1b')\"\n",
              "            title=\"Suggest charts\"\n",
              "            style=\"display:none;\">\n",
              "\n",
              "<svg xmlns=\"http://www.w3.org/2000/svg\" height=\"24px\"viewBox=\"0 0 24 24\"\n",
              "     width=\"24px\">\n",
              "    <g>\n",
              "        <path d=\"M19 3H5c-1.1 0-2 .9-2 2v14c0 1.1.9 2 2 2h14c1.1 0 2-.9 2-2V5c0-1.1-.9-2-2-2zM9 17H7v-7h2v7zm4 0h-2V7h2v10zm4 0h-2v-4h2v4z\"/>\n",
              "    </g>\n",
              "</svg>\n",
              "  </button>\n",
              "\n",
              "<style>\n",
              "  .colab-df-quickchart {\n",
              "      --bg-color: #E8F0FE;\n",
              "      --fill-color: #1967D2;\n",
              "      --hover-bg-color: #E2EBFA;\n",
              "      --hover-fill-color: #174EA6;\n",
              "      --disabled-fill-color: #AAA;\n",
              "      --disabled-bg-color: #DDD;\n",
              "  }\n",
              "\n",
              "  [theme=dark] .colab-df-quickchart {\n",
              "      --bg-color: #3B4455;\n",
              "      --fill-color: #D2E3FC;\n",
              "      --hover-bg-color: #434B5C;\n",
              "      --hover-fill-color: #FFFFFF;\n",
              "      --disabled-bg-color: #3B4455;\n",
              "      --disabled-fill-color: #666;\n",
              "  }\n",
              "\n",
              "  .colab-df-quickchart {\n",
              "    background-color: var(--bg-color);\n",
              "    border: none;\n",
              "    border-radius: 50%;\n",
              "    cursor: pointer;\n",
              "    display: none;\n",
              "    fill: var(--fill-color);\n",
              "    height: 32px;\n",
              "    padding: 0;\n",
              "    width: 32px;\n",
              "  }\n",
              "\n",
              "  .colab-df-quickchart:hover {\n",
              "    background-color: var(--hover-bg-color);\n",
              "    box-shadow: 0 1px 2px rgba(60, 64, 67, 0.3), 0 1px 3px 1px rgba(60, 64, 67, 0.15);\n",
              "    fill: var(--button-hover-fill-color);\n",
              "  }\n",
              "\n",
              "  .colab-df-quickchart-complete:disabled,\n",
              "  .colab-df-quickchart-complete:disabled:hover {\n",
              "    background-color: var(--disabled-bg-color);\n",
              "    fill: var(--disabled-fill-color);\n",
              "    box-shadow: none;\n",
              "  }\n",
              "\n",
              "  .colab-df-spinner {\n",
              "    border: 2px solid var(--fill-color);\n",
              "    border-color: transparent;\n",
              "    border-bottom-color: var(--fill-color);\n",
              "    animation:\n",
              "      spin 1s steps(1) infinite;\n",
              "  }\n",
              "\n",
              "  @keyframes spin {\n",
              "    0% {\n",
              "      border-color: transparent;\n",
              "      border-bottom-color: var(--fill-color);\n",
              "      border-left-color: var(--fill-color);\n",
              "    }\n",
              "    20% {\n",
              "      border-color: transparent;\n",
              "      border-left-color: var(--fill-color);\n",
              "      border-top-color: var(--fill-color);\n",
              "    }\n",
              "    30% {\n",
              "      border-color: transparent;\n",
              "      border-left-color: var(--fill-color);\n",
              "      border-top-color: var(--fill-color);\n",
              "      border-right-color: var(--fill-color);\n",
              "    }\n",
              "    40% {\n",
              "      border-color: transparent;\n",
              "      border-right-color: var(--fill-color);\n",
              "      border-top-color: var(--fill-color);\n",
              "    }\n",
              "    60% {\n",
              "      border-color: transparent;\n",
              "      border-right-color: var(--fill-color);\n",
              "    }\n",
              "    80% {\n",
              "      border-color: transparent;\n",
              "      border-right-color: var(--fill-color);\n",
              "      border-bottom-color: var(--fill-color);\n",
              "    }\n",
              "    90% {\n",
              "      border-color: transparent;\n",
              "      border-bottom-color: var(--fill-color);\n",
              "    }\n",
              "  }\n",
              "</style>\n",
              "\n",
              "  <script>\n",
              "    async function quickchart(key) {\n",
              "      const quickchartButtonEl =\n",
              "        document.querySelector('#' + key + ' button');\n",
              "      quickchartButtonEl.disabled = true;  // To prevent multiple clicks.\n",
              "      quickchartButtonEl.classList.add('colab-df-spinner');\n",
              "      try {\n",
              "        const charts = await google.colab.kernel.invokeFunction(\n",
              "            'suggestCharts', [key], {});\n",
              "      } catch (error) {\n",
              "        console.error('Error during call to suggestCharts:', error);\n",
              "      }\n",
              "      quickchartButtonEl.classList.remove('colab-df-spinner');\n",
              "      quickchartButtonEl.classList.add('colab-df-quickchart-complete');\n",
              "    }\n",
              "    (() => {\n",
              "      let quickchartButtonEl =\n",
              "        document.querySelector('#df-f0f57c7f-8011-4df2-a9a2-1be22c885a1b button');\n",
              "      quickchartButtonEl.style.display =\n",
              "        google.colab.kernel.accessAllowed ? 'block' : 'none';\n",
              "    })();\n",
              "  </script>\n",
              "</div>\n",
              "\n",
              "    </div>\n",
              "  </div>\n"
            ],
            "application/vnd.google.colaboratory.intrinsic+json": {
              "type": "dataframe",
              "variable_name": "ratings_df",
              "summary": "{\n  \"name\": \"ratings_df\",\n  \"rows\": 6830,\n  \"fields\": [\n    {\n      \"column\": \"id\",\n      \"properties\": {\n        \"dtype\": \"number\",\n        \"std\": 6024629,\n        \"min\": 6300002,\n        \"max\": 18757260,\n        \"num_unique_values\": 6830,\n        \"samples\": [\n          6310960,\n          18660842,\n          6308586\n        ],\n        \"semantic_type\": \"\",\n        \"description\": \"\"\n      }\n    },\n    {\n      \"column\": \"aggregate_rating\",\n      \"properties\": {\n        \"dtype\": \"number\",\n        \"std\": 1.2185719246752746,\n        \"min\": 0.0,\n        \"max\": 4.9,\n        \"num_unique_values\": 34,\n        \"samples\": [\n          3.6,\n          3.3,\n          2.2\n        ],\n        \"semantic_type\": \"\",\n        \"description\": \"\"\n      }\n    },\n    {\n      \"column\": \"rating_color\",\n      \"properties\": {\n        \"dtype\": \"category\",\n        \"num_unique_values\": 8,\n        \"samples\": [\n          \"5BA829\",\n          \"FF7800\",\n          \"3F7E00\"\n        ],\n        \"semantic_type\": \"\",\n        \"description\": \"\"\n      }\n    },\n    {\n      \"column\": \"rating_text\",\n      \"properties\": {\n        \"dtype\": \"category\",\n        \"num_unique_values\": 6,\n        \"samples\": [\n          \"Excellent\",\n          \"Very Good\",\n          \"Poor\"\n        ],\n        \"semantic_type\": \"\",\n        \"description\": \"\"\n      }\n    },\n    {\n      \"column\": \"votes\",\n      \"properties\": {\n        \"dtype\": \"number\",\n        \"std\": 91,\n        \"min\": 0,\n        \"max\": 1404,\n        \"num_unique_values\": 418,\n        \"samples\": [\n          343,\n          384,\n          306\n        ],\n        \"semantic_type\": \"\",\n        \"description\": \"\"\n      }\n    }\n  ]\n}"
            }
          },
          "metadata": {},
          "execution_count": 5
        }
      ]
    },
    {
      "cell_type": "markdown",
      "id": "77605fbc",
      "metadata": {
        "id": "77605fbc"
      },
      "source": [
        "1. Merge the zomato, location & ratings file into a signle dataframe and store it to the `merged_df` variable **(3pts)**"
      ]
    },
    {
      "cell_type": "code",
      "execution_count": 7,
      "id": "ddbd0bb1",
      "metadata": {
        "id": "ddbd0bb1",
        "colab": {
          "base_uri": "https://localhost:8080/"
        },
        "outputId": "92f1c5c3-db4c-4976-fddd-f5cff3fc30a4"
      },
      "outputs": [
        {
          "output_type": "stream",
          "name": "stdout",
          "text": [
            "<class 'pandas.core.frame.DataFrame'>\n",
            "RangeIndex: 6830 entries, 0 to 6829\n",
            "Data columns (total 35 columns):\n",
            " #   Column                          Non-Null Count  Dtype  \n",
            "---  ------                          --------------  -----  \n",
            " 0   id                              6830 non-null   int64  \n",
            " 1   average_cost_for_two            6830 non-null   int64  \n",
            " 2   book_url                        518 non-null    object \n",
            " 3   cuisines                        6829 non-null   object \n",
            " 4   currency                        6830 non-null   object \n",
            " 5   deeplink                        6830 non-null   object \n",
            " 6   events_url                      6830 non-null   object \n",
            " 7   featured_image                  6248 non-null   object \n",
            " 8   has_online_delivery             6830 non-null   int64  \n",
            " 9   has_table_booking               6830 non-null   int64  \n",
            " 10  include_bogo_offers             6830 non-null   bool   \n",
            " 11  is_book_form_web_view           6828 non-null   float64\n",
            " 12  is_delivering_now               6830 non-null   int64  \n",
            " 13  is_table_reservation_supported  6830 non-null   int64  \n",
            " 14  is_zomato_book_res              6828 non-null   float64\n",
            " 15  menu_url                        6830 non-null   object \n",
            " 16  mezzo_provider                  6828 non-null   object \n",
            " 17  name                            6830 non-null   object \n",
            " 18  photos_url                      6830 non-null   object \n",
            " 19  price_range                     6830 non-null   int64  \n",
            " 20  thumb                           6248 non-null   object \n",
            " 21  url                             6830 non-null   object \n",
            " 22  address                         6830 non-null   object \n",
            " 23  city                            6830 non-null   object \n",
            " 24  city_id                         6830 non-null   int64  \n",
            " 25  country_id                      6830 non-null   int64  \n",
            " 26  latitude                        6830 non-null   float64\n",
            " 27  locality                        6830 non-null   object \n",
            " 28  locality_verbose                6830 non-null   object \n",
            " 29  longitude                       6830 non-null   float64\n",
            " 30  zipcode                         117 non-null    float64\n",
            " 31  aggregate_rating                6830 non-null   float64\n",
            " 32  rating_color                    6830 non-null   object \n",
            " 33  rating_text                     6830 non-null   object \n",
            " 34  votes                           6830 non-null   int64  \n",
            "dtypes: bool(1), float64(6), int64(10), object(18)\n",
            "memory usage: 1.8+ MB\n",
            "None\n"
          ]
        }
      ],
      "source": [
        "merged_df = zomato_df.merge(location_df, on='id', how='inner')\n",
        "merged_df = merged_df.merge(ratings_df, on='id', how='inner')\n",
        "\n",
        "print(merged_df.info())"
      ]
    },
    {
      "cell_type": "code",
      "execution_count": 8,
      "id": "b2a86a44",
      "metadata": {
        "id": "b2a86a44"
      },
      "outputs": [],
      "source": [
        "assert (6830, 35)==merged_df.shape\n",
        "\n",
        "cols = ['id', 'address', 'city', 'city_id', 'country_id', 'latitude',\n",
        "       'locality', 'locality_verbose', 'longitude', 'zipcode',\n",
        "       'aggregate_rating', 'rating_color', 'rating_text', 'votes',\n",
        "       'average_cost_for_two', 'book_url', 'cuisines', 'currency', 'deeplink',\n",
        "       'events_url', 'featured_image', 'has_online_delivery',\n",
        "       'has_table_booking', 'include_bogo_offers', 'is_book_form_web_view',\n",
        "       'is_delivering_now', 'is_table_reservation_supported',\n",
        "       'is_zomato_book_res', 'menu_url', 'mezzo_provider', 'name',\n",
        "       'photos_url', 'price_range', 'thumb', 'url']\n",
        "\n",
        "assert sorted(merged_df.columns) == sorted(cols)"
      ]
    },
    {
      "cell_type": "markdown",
      "id": "02223abe",
      "metadata": {
        "id": "02223abe"
      },
      "source": [
        "2. Create a function that returns the average aggregate rating for each city. Expected returned value is a Series datatype which contains name of city as index and average aggregate rating as value. **(2pts)**"
      ]
    },
    {
      "cell_type": "code",
      "execution_count": 9,
      "id": "bd7d8f34",
      "metadata": {
        "id": "bd7d8f34"
      },
      "outputs": [],
      "source": [
        "def exercise_2(merged_df):\n",
        "    avg_rating_per_city = merged_df.groupby('city')['aggregate_rating'].mean()\n",
        "\n",
        "    return avg_rating_per_city"
      ]
    },
    {
      "cell_type": "code",
      "execution_count": 10,
      "id": "10e5b4c1",
      "metadata": {
        "id": "10e5b4c1"
      },
      "outputs": [],
      "source": [
        "res_series = exercise_2(merged_df)\n",
        "assert True == np.isclose(3.302075, res_series[res_series.index == 'Pasay City'],\n",
        "                          rtol=1e-05, atol=1e-08, equal_nan=False)[0]\n",
        "assert True == np.isclose(1.890741, res_series[res_series.index == 'Valenzuela City'],\n",
        "                          rtol=1e-05, atol=1e-08, equal_nan=False)[0]\n",
        "assert True == np.isclose(1.558333, res_series[res_series.index == 'Malabon City'],\n",
        "                          rtol=1e-05, atol=1e-08, equal_nan=False)[0]"
      ]
    },
    {
      "cell_type": "markdown",
      "id": "5db591ac",
      "metadata": {
        "id": "5db591ac"
      },
      "source": [
        "3. Using the apply function of pandas convert the rating_text to a numeric equivalent. You are to introduce a new column in merged_df called `rating_numeric` which is based on the value from rating_text: **(3pts)**\n",
        "\n",
        "Excellent = 5 <br>\n",
        "Very Good = 4 <br>\n",
        "Good = 3 <br>\n",
        "Average = 2 <br>\n",
        "Poor = 1 <br>\n",
        "Not rated = 0 <br>"
      ]
    },
    {
      "cell_type": "code",
      "execution_count": 13,
      "id": "41293771",
      "metadata": {
        "id": "41293771"
      },
      "outputs": [],
      "source": [
        "def convert_rating_text_to_numeric(rating_text):\n",
        "    rating_map = {\n",
        "        'Excellent': 5,\n",
        "        'Very Good': 4,\n",
        "        'Good': 3,\n",
        "        'Average': 2,\n",
        "        'Poor': 1,\n",
        "        'Not rated': 0\n",
        "    }\n",
        "\n",
        "    return rating_map.get(rating_text, 0)\n",
        "\n",
        "merged_df['rating_numeric'] = merged_df['rating_text'].apply(convert_rating_text_to_numeric)"
      ]
    },
    {
      "cell_type": "code",
      "execution_count": 12,
      "id": "c62df922",
      "metadata": {
        "id": "c62df922"
      },
      "outputs": [],
      "source": [
        "assert 868 == merged_df[merged_df.rating_numeric == 0].shape[0]\n",
        "assert True == ('rating_numeric' in merged_df.columns)"
      ]
    },
    {
      "cell_type": "markdown",
      "id": "97ec4197",
      "metadata": {
        "id": "97ec4197"
      },
      "source": [
        "4. Create a function which filters the merged dataframe to only contain rows coming in from a specific city. Expected returned value is a dataframe **(2pts)**"
      ]
    },
    {
      "cell_type": "code",
      "execution_count": 14,
      "id": "9773b18e",
      "metadata": {
        "id": "9773b18e"
      },
      "outputs": [],
      "source": [
        "def exercise_4(merged_df, city):\n",
        "    filtered_df = merged_df[merged_df['city'] == city]\n",
        "\n",
        "    return filtered_df"
      ]
    },
    {
      "cell_type": "code",
      "execution_count": 15,
      "id": "1ca29a81",
      "metadata": {
        "id": "1ca29a81"
      },
      "outputs": [],
      "source": [
        "assert 'Makati City' == exercise_4(merged_df, 'Makati City').city.unique()[0]\n",
        "assert (976, 36) == exercise_4(merged_df, 'Makati City').shape\n",
        "\n",
        "assert 'Mandaluyong City' == exercise_4(merged_df, 'Mandaluyong City').city.unique()[0]\n",
        "assert (443, 36) == exercise_4(merged_df, 'Mandaluyong City').shape\n",
        "\n",
        "assert (0, 36) == exercise_4(merged_df, 'Quezon  City').shape"
      ]
    },
    {
      "cell_type": "markdown",
      "id": "ca7bf3c1",
      "metadata": {
        "id": "ca7bf3c1"
      },
      "source": [
        "5. Create a function to filter the dataframe to only contain certain columns passed in the function. Expected returned value is a dataframe **(1pt)**"
      ]
    },
    {
      "cell_type": "code",
      "execution_count": 16,
      "id": "59787577",
      "metadata": {
        "id": "59787577"
      },
      "outputs": [],
      "source": [
        "def exercise_5(merged_df, cols_to_filter):\n",
        "    filtered_df = merged_df[cols_to_filter]\n",
        "\n",
        "    return filtered_df"
      ]
    },
    {
      "cell_type": "code",
      "execution_count": 18,
      "id": "da27c054",
      "metadata": {
        "id": "da27c054"
      },
      "outputs": [],
      "source": [
        "cols = ['name', 'cuisines', 'city', 'aggregate_rating']\n",
        "assert sorted(cols) == sorted(exercise_5(merged_df, cols).columns)\n",
        "assert (6830, 4) == exercise_5(merged_df, cols).shape\n",
        "\n",
        "cols = ['average_cost_for_two', 'book_url', 'cuisines', 'currency', 'deeplink',\n",
        "       'events_url', 'featured_image', 'has_online_delivery',\n",
        "       'has_table_booking', 'include_bogo_offers', 'is_book_form_web_view']\n",
        "assert sorted(cols) == sorted(exercise_5(merged_df, cols).columns)\n",
        "assert (6830, 11) == exercise_5(merged_df, cols).shape"
      ]
    },
    {
      "cell_type": "markdown",
      "id": "d69c7e2e",
      "metadata": {
        "id": "d69c7e2e"
      },
      "source": [
        "6.  What is the most common restaurant name in the dataset? **(2pts)** Write down your answer and show code used to come up with the answer."
      ]
    },
    {
      "cell_type": "code",
      "execution_count": 19,
      "id": "cf9cdab1",
      "metadata": {
        "id": "cf9cdab1",
        "colab": {
          "base_uri": "https://localhost:8080/"
        },
        "outputId": "8aac4190-f534-4a38-b36d-c875139e941e"
      },
      "outputs": [
        {
          "output_type": "stream",
          "name": "stdout",
          "text": [
            "The most common restaurant name is 'Starbucks' with 99 occurrences.\n"
          ]
        }
      ],
      "source": [
        "restaurant_counts = merged_df['name'].value_counts()\n",
        "\n",
        "most_common_name = restaurant_counts.idxmax()\n",
        "\n",
        "count = restaurant_counts[most_common_name]\n",
        "\n",
        "print(f\"The most common restaurant name is '{most_common_name}' with {count} occurrences.\")"
      ]
    },
    {
      "cell_type": "markdown",
      "id": "7675b4b1",
      "metadata": {
        "id": "7675b4b1"
      },
      "source": [
        "7. Which restaurant has the most expensive average cost for two? **(2pts)** Write down your answer and show code used to come up with the answer."
      ]
    },
    {
      "cell_type": "code",
      "execution_count": 20,
      "id": "b447b440",
      "metadata": {
        "id": "b447b440",
        "colab": {
          "base_uri": "https://localhost:8080/"
        },
        "outputId": "97941c94-2ec7-48f8-8154-24d3533e5a9f"
      },
      "outputs": [
        {
          "output_type": "stream",
          "name": "stdout",
          "text": [
            "The most expensive restaurant is 'The Tasting Room' with an average cost for two of 10000.\n"
          ]
        }
      ],
      "source": [
        "most_expensive_restaurant = merged_df.sort_values(by='average_cost_for_two', ascending=False).iloc[0]\n",
        "\n",
        "restaurant_name = most_expensive_restaurant['name']\n",
        "cost_for_two = most_expensive_restaurant['average_cost_for_two']\n",
        "\n",
        "print(f\"The most expensive restaurant is '{restaurant_name}' with an average cost for two of {cost_for_two}.\")"
      ]
    },
    {
      "cell_type": "markdown",
      "id": "af873fb7",
      "metadata": {
        "id": "af873fb7"
      },
      "source": [
        "8. How many restaurants do not have a zipcode? **(1pt)** Write down your answer and show code used to come up with the answer."
      ]
    },
    {
      "cell_type": "code",
      "execution_count": 21,
      "id": "43f1234a",
      "metadata": {
        "id": "43f1234a",
        "colab": {
          "base_uri": "https://localhost:8080/"
        },
        "outputId": "2195e990-858b-4364-b1f2-6c8fa6286187"
      },
      "outputs": [
        {
          "output_type": "stream",
          "name": "stdout",
          "text": [
            "There are 6713 restaurants that do not have a zipcode.\n"
          ]
        }
      ],
      "source": [
        "restaurants_without_zipcode = merged_df['zipcode'].isna().sum()\n",
        "\n",
        "print(f\"There are {restaurants_without_zipcode} restaurants that do not have a zipcode.\")"
      ]
    },
    {
      "cell_type": "markdown",
      "id": "9347ac03",
      "metadata": {
        "id": "9347ac03"
      },
      "source": [
        "9. How many restaurants in the dataset allow online delivery? **(1pt)** Write down your answer and show code used to come up with the answer."
      ]
    },
    {
      "cell_type": "code",
      "execution_count": 22,
      "id": "24b62212",
      "metadata": {
        "id": "24b62212",
        "colab": {
          "base_uri": "https://localhost:8080/"
        },
        "outputId": "5976930b-4eab-4e7f-9f65-ca2e6fffe47d"
      },
      "outputs": [
        {
          "output_type": "stream",
          "name": "stdout",
          "text": [
            "There are 0 restaurants that allow online delivery.\n"
          ]
        }
      ],
      "source": [
        "restaurants_with_online_delivery = merged_df[merged_df['has_online_delivery'] == 1].shape[0]\n",
        "\n",
        "print(f\"There are {restaurants_with_online_delivery} restaurants that allow online delivery.\")"
      ]
    },
    {
      "cell_type": "markdown",
      "id": "7f2c7aa3",
      "metadata": {
        "id": "7f2c7aa3"
      },
      "source": [
        "10. Which locatlity has more expensive food? Poblacion or Salcedo Village? **(3pts)** Write down your answer and show code used to come up with the answer.\n"
      ]
    },
    {
      "cell_type": "code",
      "execution_count": 25,
      "id": "8fb7ce16",
      "metadata": {
        "id": "8fb7ce16",
        "colab": {
          "base_uri": "https://localhost:8080/"
        },
        "outputId": "f4643404-0009-4a6e-e46f-a448c619528d"
      },
      "outputs": [
        {
          "output_type": "stream",
          "name": "stdout",
          "text": [
            "Salcedo Village has more expensive food with an average cost for two of 989.10.\n"
          ]
        }
      ],
      "source": [
        "poblacion_cost = merged_df[merged_df['locality'] == 'Poblacion']['average_cost_for_two'].mean()\n",
        "salcedo_cost = merged_df[merged_df['locality'] == 'Salcedo Village']['average_cost_for_two'].mean()\n",
        "\n",
        "if poblacion_cost > salcedo_cost:\n",
        "    more_expensive_locality = 'Poblacion'\n",
        "    cost = poblacion_cost\n",
        "else:\n",
        "    more_expensive_locality = 'Salcedo Village'\n",
        "    cost = salcedo_cost\n",
        "\n",
        "print(f\"{more_expensive_locality} has more expensive food with an average cost for two of {cost:.2f}.\")"
      ]
    }
  ],
  "metadata": {
    "kernelspec": {
      "display_name": "Python 3",
      "language": "python",
      "name": "python3"
    },
    "language_info": {
      "codemirror_mode": {
        "name": "ipython",
        "version": 3
      },
      "file_extension": ".py",
      "mimetype": "text/x-python",
      "name": "python",
      "nbconvert_exporter": "python",
      "pygments_lexer": "ipython3",
      "version": "3.7.7"
    },
    "colab": {
      "provenance": []
    }
  },
  "nbformat": 4,
  "nbformat_minor": 5
}